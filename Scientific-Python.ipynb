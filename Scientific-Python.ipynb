{
  "nbformat": 4,
  "nbformat_minor": 0,
  "metadata": {
    "file_extension": ".py",
    "kernelspec": {
      "display_name": "Python 3",
      "language": "python",
      "name": "python3"
    },
    "language_info": {
      "codemirror_mode": {
        "name": "ipython",
        "version": 3
      },
      "file_extension": ".py",
      "mimetype": "text/x-python",
      "name": "python",
      "nbconvert_exporter": "python",
      "pygments_lexer": "ipython3",
      "version": "3.7.4"
    },
    "mimetype": "text/x-python",
    "name": "python",
    "npconvert_exporter": "python",
    "pygments_lexer": "ipython3",
    "version": 3,
    "colab": {
      "name": "Scientific-Python.ipynb",
      "provenance": [],
      "collapsed_sections": [
        "FyEmOtyIxCEZ",
        "JswCYDb_xCE4"
      ],
      "toc_visible": true
    }
  },
  "cells": [
    {
      "cell_type": "markdown",
      "metadata": {
        "id": "eR2b3GqQxCDe"
      },
      "source": [
        " <center><h1>Introduction to Scientific Python</h1><center>\n",
        "\n",
        " <center>\n",
        " <h3>Texas A&amp;M High Performance Research Computing (TAMU HPRC)<br>\n",
        " Tri Pham (HPRC), modified from original notebook by Yang Liu (HPRC)</h3>\n",
        " <h3><a href=\"https://hprc.tamu.edu/training/intro_scientific_python.html\">course web page</a></h3>\n",
        " <h4>Last update: October 14, 2020</h4>\n",
        " </center>\n",
        "\n",
        " <h4>Disclaimer: This notebook is provided as-is without warranty of any kind.</h4> "
      ]
    },
    {
      "cell_type": "markdown",
      "metadata": {
        "id": "JAAIwRA8xCDg"
      },
      "source": [
        "# Acknowledgement\n",
        "This tutorial was constructed based on \n",
        "1. [Numpy Tutorial](https://docs.scipy.org/doc/numpy/user/quickstart.html)\n",
        "2. [Linear Algebra (Scipy Tutorial)](https://docs.scipy.org/doc/scipy/reference/tutorial/linalg.html)\n",
        "3. [Matplotlib Tutorial](https://matplotlib.org/tutorials/introductory/pyplot.html)\n",
        "4. [NumPy and Numba](http://numba.pydata.org/numba-doc/0.12/tutorial_numpy_and_numba.html) \n",
        "\n",
        "Think of this as a collection of handpick topics in each of the above tutorials. Feel free to check out the origial links for each topic."
      ]
    },
    {
      "cell_type": "markdown",
      "metadata": {
        "id": "csMyq2ThxCDg"
      },
      "source": [
        " # Agenda\n",
        "\n",
        " - Numpy\n",
        " - Matplotlib\n",
        " - Scipy\n",
        " - Errors in Scientific Computing"
      ]
    },
    {
      "cell_type": "markdown",
      "metadata": {
        "id": "HqX9AdrNxCDh"
      },
      "source": [
        " Before we begin, let us import some libraries that we will use throughout the tutorial."
      ]
    },
    {
      "cell_type": "code",
      "metadata": {
        "id": "cnin6xBixCDi"
      },
      "source": [
        "import numpy as np\n",
        "import matplotlib.pyplot as plt"
      ],
      "execution_count": null,
      "outputs": []
    },
    {
      "cell_type": "markdown",
      "metadata": {
        "id": "_V8Dei88xCDl"
      },
      "source": [
        " # 1 Numpy\n",
        "\n",
        " "
      ]
    },
    {
      "cell_type": "markdown",
      "metadata": {
        "id": "GbBBaDbEAC7n"
      },
      "source": [
        "##1.1 What is NumPy\n",
        " Numpy is a fundamental package for scientific computing in python. It provides:\n",
        " - Multidiensional array object and various derived objects (matrices, etc.),\n",
        " - Routines for fast operations on arrays: mathematical, shape manipulation, sorting, and so on.\n",
        " Other widely usaged packages (Scipy, Biopython, Pandas, etc.) are built on top of Numpy.\n",
        " **Source:** [What is NumPy](https://docs.scipy.org/doc/numpy-1.13.0/user/whatisnumpy.html)\n"
      ]
    },
    {
      "cell_type": "code",
      "metadata": {
        "id": "R-JY4_QVxCDm"
      },
      "source": [
        "import numpy as np\n",
        "a = np.array([[1, 2, 3],\n",
        "              [4, 5, 6]])"
      ],
      "execution_count": null,
      "outputs": []
    },
    {
      "cell_type": "code",
      "metadata": {
        "id": "m7jpnhPlwOCD",
        "outputId": "5d4ae239-3e67-403f-fb10-f0e972d40021",
        "colab": {
          "base_uri": "https://localhost:8080/",
          "height": 71
        }
      },
      "source": [
        "print(\"a = \")\n",
        "print(a)"
      ],
      "execution_count": null,
      "outputs": [
        {
          "output_type": "stream",
          "text": [
            "a = \n",
            "[[1 2 3]\n",
            " [4 5 6]]\n"
          ],
          "name": "stdout"
        }
      ]
    },
    {
      "cell_type": "markdown",
      "metadata": {
        "id": "KOdzOazAxCDp"
      },
      "source": [
        " Let's examine a above attributes of array a."
      ]
    },
    {
      "cell_type": "code",
      "metadata": {
        "id": "654VpIqDxCDq",
        "outputId": "70bbd49a-236a-4fa6-ae54-8dcb1e426819",
        "colab": {
          "base_uri": "https://localhost:8080/",
          "height": 89
        }
      },
      "source": [
        "print(f'a.size = {a.size} ({a.size} elements {list(range(1, a.size + 1))})')\n",
        "print(f'a.ndim = {a.ndim} ({a.ndim} dimensions => rank = 2)')\n",
        "print(f'a.shape = {a.shape} ({a.shape[0]} rows, {a.shape[1]} columns)')\n",
        "print(f'a.dtype = {a.dtype} (64-bit integer)')"
      ],
      "execution_count": null,
      "outputs": [
        {
          "output_type": "stream",
          "text": [
            "a.size = 6 (6 elements [1, 2, 3, 4, 5, 6])\n",
            "a.ndim = 2 (2 dimensions => rank = 2)\n",
            "a.shape = (2, 3) (2 rows, 3 columns)\n",
            "a.dtype = int64 (64-bit integer)\n"
          ],
          "name": "stdout"
        }
      ]
    },
    {
      "cell_type": "markdown",
      "metadata": {
        "id": "VgP7naHMHXhc"
      },
      "source": [
        "![content_arrays-axes.png](data:image/png;base64,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)"
      ]
    },
    {
      "cell_type": "markdown",
      "metadata": {
        "id": "49Wi0gfxxCDs"
      },
      "source": [
        " [More information about data types](https://numpy.org/doc/stable/user/basics.types.html). Knowing about data types is important as using the wrong data type can cause overflow errors. Using correct data type is crucial in many cases when high precision numbers are needed (https://numpy.org/doc/stable/user/basics.types.html#overflow-errors)\n",
        " "
      ]
    },
    {
      "cell_type": "markdown",
      "metadata": {
        "id": "EZwvtS_KxCDs"
      },
      "source": [
        " ## 1.2 Operations on Arrays\n",
        " Arithemetic operations on arrays are element-wise operations, while some other functions are not."
      ]
    },
    {
      "cell_type": "markdown",
      "metadata": {
        "id": "3bQHs9Q-xCDt"
      },
      "source": [
        " ### a. Array creation:"
      ]
    },
    {
      "cell_type": "code",
      "metadata": {
        "id": "4YsMpvosxCDt"
      },
      "source": [
        "a = np.array([10, 20, 40])\n",
        "b = np.array([[1, 2, 3],\n",
        "              [4, 5, 6]])"
      ],
      "execution_count": null,
      "outputs": []
    },
    {
      "cell_type": "markdown",
      "metadata": {
        "id": "WTVprfD6xCDv"
      },
      "source": [
        " The above will create 2 NumPy array. (For array b, notice the use of an extra pair of square brackets)"
      ]
    },
    {
      "cell_type": "code",
      "metadata": {
        "id": "39d4Y9ghxCDw",
        "outputId": "cef14982-7e8a-4f01-87a5-7bb48dcf2471",
        "colab": {
          "base_uri": "https://localhost:8080/",
          "height": 35
        }
      },
      "source": [
        "print(f\"a = {a}\")"
      ],
      "execution_count": null,
      "outputs": [
        {
          "output_type": "stream",
          "text": [
            "a = [10 20 40]\n"
          ],
          "name": "stdout"
        }
      ]
    },
    {
      "cell_type": "code",
      "metadata": {
        "id": "U1nLg6emxCDy",
        "outputId": "86208e59-b482-4d54-f88b-ed32f6e206e1",
        "colab": {
          "base_uri": "https://localhost:8080/",
          "height": 69
        }
      },
      "source": [
        "print(\"b = \")\n",
        "print(b)"
      ],
      "execution_count": null,
      "outputs": [
        {
          "output_type": "stream",
          "text": [
            "b = \n",
            "[[1 2 3]\n",
            " [4 5 6]]\n"
          ],
          "name": "stdout"
        }
      ]
    },
    {
      "cell_type": "markdown",
      "metadata": {
        "id": "rX-N1pQQxCD0"
      },
      "source": [
        " There are many ways to create NumPy array. Check out the [documentations](https://numpy.org/doc/stable/user/basics.creation.html) for more 😄."
      ]
    },
    {
      "cell_type": "markdown",
      "metadata": {
        "id": "t4KwPfFixCD1"
      },
      "source": [
        " ### b. Basic operations on NumPy array:"
      ]
    },
    {
      "cell_type": "markdown",
      "metadata": {
        "id": "_xfgpDI5xCD2"
      },
      "source": [
        " Let's define some arrays:"
      ]
    },
    {
      "cell_type": "code",
      "metadata": {
        "id": "kH05IvUpxCD2",
        "outputId": "3fb7129e-67ab-4c8e-d0ea-19e8f1a38a11",
        "colab": {
          "base_uri": "https://localhost:8080/",
          "height": 52
        }
      },
      "source": [
        "a = np.array([10, 20, 40])\n",
        "b = np.random.random((3))\n",
        "print(f'a = {a}')\n",
        "print(f'b = {b}')"
      ],
      "execution_count": null,
      "outputs": [
        {
          "output_type": "stream",
          "text": [
            "a = [10 20 40]\n",
            "b = [0.27168768 0.6364923  0.1040313 ]\n"
          ],
          "name": "stdout"
        }
      ]
    },
    {
      "cell_type": "markdown",
      "metadata": {
        "id": "xJB04g-lxCD4"
      },
      "source": [
        " Arithmetic operators are applied elementwise."
      ]
    },
    {
      "cell_type": "code",
      "metadata": {
        "id": "cbVsMG-CxCD5",
        "outputId": "db937c9a-6226-4c1b-d73f-5d6bfdf5ee1c",
        "colab": {
          "base_uri": "https://localhost:8080/",
          "height": 87
        }
      },
      "source": [
        "print('a + b =', a + b)\n",
        "print('a - b = ', a - b)\n",
        "print('abs(b - a) = ', np.abs(b - a))\n",
        "print('a < b =', a < b)"
      ],
      "execution_count": null,
      "outputs": [
        {
          "output_type": "stream",
          "text": [
            "a + b = [10.27168768 20.6364923  40.1040313 ]\n",
            "a - b =  [ 9.72831232 19.3635077  39.8959687 ]\n",
            "abs(b - a) =  [ 9.72831232 19.3635077  39.8959687 ]\n",
            "a < b = [False False False]\n"
          ],
          "name": "stdout"
        }
      ]
    },
    {
      "cell_type": "code",
      "metadata": {
        "id": "zOWu8DT9NzQS",
        "outputId": "dc1d1862-9549-4a0c-8c80-58e2ecf14cf7",
        "colab": {
          "base_uri": "https://localhost:8080/",
          "height": 35
        }
      },
      "source": [
        "a * b"
      ],
      "execution_count": null,
      "outputs": [
        {
          "output_type": "execute_result",
          "data": {
            "text/plain": [
              "array([ 2.71687676, 12.72984598,  4.16125212])"
            ]
          },
          "metadata": {
            "tags": []
          },
          "execution_count": 11
        }
      ]
    },
    {
      "cell_type": "markdown",
      "metadata": {
        "id": "SyJ_sC7vxCD7"
      },
      "source": [
        " **Note:** when operating on matrices, '*' operator is applied elementwise. If you needs to apply dot product between 2 matrices (say A and B), the correct syntax is\n",
        " ```python\n",
        " A.dot(B)\n",
        " ```\n",
        " or\n",
        " ```python\n",
        " np.dot(A, B)\n",
        " ```"
      ]
    },
    {
      "cell_type": "markdown",
      "metadata": {
        "id": "JA6Wm5M2xCD7"
      },
      "source": [
        " Unary operations"
      ]
    },
    {
      "cell_type": "code",
      "metadata": {
        "id": "uYisi21Z0ePL",
        "outputId": "9cb5d677-2573-474b-c7a2-aea6cee3d19b",
        "colab": {
          "base_uri": "https://localhost:8080/",
          "height": 35
        }
      },
      "source": [
        "a = np.array([10, 20, 30])\n",
        "print(f\"a = {a}\")"
      ],
      "execution_count": null,
      "outputs": [
        {
          "output_type": "stream",
          "text": [
            "a = [10 20 30]\n"
          ],
          "name": "stdout"
        }
      ]
    },
    {
      "cell_type": "code",
      "metadata": {
        "id": "zAzc6nVIxCD8",
        "outputId": "2dde3336-977b-46b2-8da5-a3368a4d8638",
        "colab": {
          "base_uri": "https://localhost:8080/",
          "height": 139
        }
      },
      "source": [
        "print('sin(a) =', np.sin(a))\n",
        "print('sqrt(a) =', np.sqrt(a))\n",
        "print('power(a, 3) =', np.power(a, 3))\n",
        "print('sum(a) =', np.sum(a))\n",
        "print('mean(a) =', np.mean(a))\n",
        "print('min(a) = ', np.min(a))\n",
        "print('max(a) = ', np.max(a))"
      ],
      "execution_count": null,
      "outputs": [
        {
          "output_type": "stream",
          "text": [
            "sin(a) = [-0.54402111  0.91294525 -0.98803162]\n",
            "sqrt(a) = [3.16227766 4.47213595 5.47722558]\n",
            "power(a, 3) = [ 1000  8000 27000]\n",
            "sum(a) = 60\n",
            "mean(a) = 20.0\n",
            "min(a) =  10\n",
            "max(a) =  30\n"
          ],
          "name": "stdout"
        }
      ]
    },
    {
      "cell_type": "markdown",
      "metadata": {
        "id": "qOSW-U_PxCD9"
      },
      "source": [
        " Some of the above operations has alternative syntaxs."
      ]
    },
    {
      "cell_type": "code",
      "metadata": {
        "id": "lWQrrDQlxCD-",
        "outputId": "c1f86080-45dc-42a1-c2d0-5448b4682f0c",
        "colab": {
          "base_uri": "https://localhost:8080/",
          "height": 87
        }
      },
      "source": [
        "print('sum(a) =', a.sum())\n",
        "print('mean(a) =', a.mean())\n",
        "print('min(a) = ', a.min())\n",
        "print('max(a) = ', a.max())"
      ],
      "execution_count": null,
      "outputs": [
        {
          "output_type": "stream",
          "text": [
            "sum(a) = 60\n",
            "mean(a) = 20.0\n",
            "min(a) =  10\n",
            "max(a) =  30\n"
          ],
          "name": "stdout"
        }
      ]
    },
    {
      "cell_type": "markdown",
      "metadata": {
        "id": "CYWQPxKYxCEA"
      },
      "source": [
        " **Question: Why above operations operate the way they do (element-by-element)?**\n",
        " This leads us to two important concepts: vectorization and broadcasting.\n",
        " According to [NumPy docs](https://numpy.org/doc/stable/user/whatisnumpy.html#why-is-numpy-fast):\n",
        "\n",
        " \"Vectorization describes the absence of any explicit looping, indexing, etc., in the code - these things are taking place, of course, just “behind the scenes” in optimized, pre-compiled C code.\n",
        "\n",
        " Broadcasting is the term used to describe the implicit element-by-element behavior of operations; generally speaking, in NumPy all operations, not just arithmetic operations, but logical, bit-wise, functional, etc., behave in this implicit element-by-element fashion, i.e., they broadcast.\"- NumPy docs."
      ]
    },
    {
      "cell_type": "markdown",
      "metadata": {
        "id": "AdvhFeL9xCEA"
      },
      "source": [
        " ### c. Reshape an Array\n",
        " The shape of an array a can be changed by\n",
        " <ul>\n",
        "     <li> a.shape = (): change the shape of 'a'\n",
        "     <li> a.resize(): change the shape of 'a'\n",
        "     <li> a.reshape(): the shape of 'a' does not change. It simply returns a new array with the given shape\n",
        " </ul>"
      ]
    },
    {
      "cell_type": "code",
      "metadata": {
        "id": "C0SrPTPPxCEB",
        "outputId": "8bcd560c-ccac-450b-af9a-0faea9b1293b",
        "colab": {
          "base_uri": "https://localhost:8080/",
          "height": 347
        }
      },
      "source": [
        "a = np.arange(24)\n",
        "print('a =', a)\n",
        "b = a.reshape(3, 8)\n",
        "print()\n",
        "print('After a.reshape(3, 8), b =')\n",
        "print(b)\n",
        "\n",
        "# calling reshape returns a new array but does not change the shape of the original array \n",
        "print()\n",
        "print('After a.reshape(3, 8), a =')\n",
        "print(a)\n",
        "\n",
        "print()\n",
        "a.shape = (2, 12)\n",
        "print('After a.shape = (2, 12), a =')\n",
        "print(a)\n",
        "a.resize(4, 6)\n",
        "\n",
        "print()\n",
        "print('After a.resize(4, 6), a =')\n",
        "print(a)"
      ],
      "execution_count": null,
      "outputs": [
        {
          "output_type": "stream",
          "text": [
            "a = [ 0  1  2  3  4  5  6  7  8  9 10 11 12 13 14 15 16 17 18 19 20 21 22 23]\n",
            "\n",
            "After a.reshape(3, 8), b =\n",
            "[[ 0  1  2  3  4  5  6  7]\n",
            " [ 8  9 10 11 12 13 14 15]\n",
            " [16 17 18 19 20 21 22 23]]\n",
            "\n",
            "After a.reshape(3, 8), a =\n",
            "[ 0  1  2  3  4  5  6  7  8  9 10 11 12 13 14 15 16 17 18 19 20 21 22 23]\n",
            "\n",
            "After a.shape = (2, 12), a =\n",
            "[[ 0  1  2  3  4  5  6  7  8  9 10 11]\n",
            " [12 13 14 15 16 17 18 19 20 21 22 23]]\n",
            "\n",
            "After a.resize(4, 6), a =\n",
            "[[ 0  1  2  3  4  5]\n",
            " [ 6  7  8  9 10 11]\n",
            " [12 13 14 15 16 17]\n",
            " [18 19 20 21 22 23]]\n"
          ],
          "name": "stdout"
        }
      ]
    },
    {
      "cell_type": "markdown",
      "metadata": {
        "id": "SaGwlMP5xCED"
      },
      "source": [
        "**Note:** I found a very [interesting post](https://stackoverflow.com/questions/22053050/difference-between-numpy-array-shape-r-1-and-r) on stackoverflow that gives some insight into how shape works in NumPy. If you really want to get technical on how NumPy works, check out [NumPy internals](https://docs.scipy.org/doc/numpy/reference/internals.html).  \n",
        "**Warning ⚠️ :** Go check out \"[Guide to NumPy](http://web.mit.edu/dvp/Public/numpybook.pdf)\" if you are so excited about NumPy. "
      ]
    },
    {
      "cell_type": "markdown",
      "metadata": {
        "id": "DRImK3ZexCEH"
      },
      "source": [
        " ## 1.3 Exercise   Minkowski Distance\n",
        " Let $X = [x_{1}, x_2, ..., x_n)$ and $Y = [y_1, y_2, ..., y_n]$. Then the Minkowski distnace of order p between X and Y is $D(X, Y) = (|x_1-y_1|^p + |x_2 - y_2|^p + ... + |x_n -y_n|^p)^{1/p}$\n",
        "\n",
        " When $p=1$, this is the Manhattan distance.\n",
        "\n",
        " When $p=2$, this is the Euclidian distance.\n",
        "\n",
        " Complete the following function to calculate the Minkowski distance."
      ]
    },
    {
      "cell_type": "code",
      "metadata": {
        "id": "OwlOAXy-xCEH",
        "outputId": "f9906a76-3946-49a0-d0cb-09d63ad930c3",
        "colab": {
          "base_uri": "https://localhost:8080/",
          "height": 173
        }
      },
      "source": [
        "def distance(x: np.ndarray, y: np.ndarray, p: int) -> float:\n",
        "    # complete the function\n",
        "    return 0\n",
        "    # end of the distance() function\n",
        "\n",
        "\n",
        "x = np.array([1, 2, 3], np.int8)\n",
        "y = np.array([2, 3, 4], np.int8)\n",
        "print(f'x = {x}, y = {y}\\n')\n",
        "\n",
        "p1 = 1.0\n",
        "print(f'p1 = {p1}')\n",
        "print(f'xy_p1_distance = {distance(x, y, p1)}')\n",
        "print(f'yx_p1_distance = {distance(x, y, p1)}\\n')\n",
        "\n",
        "p2 = 2.0\n",
        "print(f'p2 = {p2}')\n",
        "print(f'xy_p1_distance = {distance(x, y, p2)}')\n",
        "print(f'yx_p1_distance = {distance(x, y, p2)}')"
      ],
      "execution_count": null,
      "outputs": [
        {
          "output_type": "stream",
          "text": [
            "x = [1 2 3], y = [2 3 4]\n",
            "\n",
            "p1 = 1.0\n",
            "xy_p1_distance = 0\n",
            "yx_p1_distance = 0\n",
            "\n",
            "p2 = 2.0\n",
            "xy_p1_distance = 0\n",
            "yx_p1_distance = 0\n"
          ],
          "name": "stdout"
        }
      ]
    },
    {
      "cell_type": "code",
      "metadata": {
        "id": "RoX5zSfqxCEK",
        "outputId": "39ee00d3-d58e-4af6-b054-e12f57b00958",
        "colab": {
          "base_uri": "https://localhost:8080/",
          "height": 173
        }
      },
      "source": [
        "# this is a solution to the exercise above\n",
        "def distance(x, y, p):\n",
        "    distance = pow(\n",
        "        np.sum(np.power(np.abs(x.astype('float') - y.astype('float')), p)), 1/p)\n",
        "    return distance\n",
        "\n",
        "\n",
        "x = np.array([1, 2, 3], np.uint8)\n",
        "y = np.array([2, 3, 4], np.uint8)\n",
        "p = 1\n",
        "xy_p1_distance = distance(x, y, p)\n",
        "yx_p1_distance = distance(y, x, p)\n",
        "print('x = {}'.format(x))\n",
        "print('y = {}'.format(y))\n",
        "print('p = {}, xy_p1_distance = {}'.format(p, xy_p1_distance))\n",
        "print('p = {}, yx_p1_distance = {}\\n'.format(p, yx_p1_distance))\n",
        "\n",
        "p = 2\n",
        "xy_p1_distance = distance(x, y, p)\n",
        "yx_p1_distance = distance(y, x, p)\n",
        "print('x = {}'.format(x))\n",
        "print('y = {}'.format(y))\n",
        "print('p = {}, xy_p1_distance = {}'.format(p, xy_p1_distance))\n",
        "print('p = {}, yx_p1_distance = {}'.format(p, yx_p1_distance))"
      ],
      "execution_count": null,
      "outputs": [
        {
          "output_type": "stream",
          "text": [
            "x = [1 2 3]\n",
            "y = [2 3 4]\n",
            "p = 1, xy_p1_distance = 3.0\n",
            "p = 1, yx_p1_distance = 3.0\n",
            "\n",
            "x = [1 2 3]\n",
            "y = [2 3 4]\n",
            "p = 2, xy_p1_distance = 1.7320508075688772\n",
            "p = 2, yx_p1_distance = 1.7320508075688772\n"
          ],
          "name": "stdout"
        }
      ]
    },
    {
      "cell_type": "markdown",
      "metadata": {
        "id": "8j7tZ4sTxCEN"
      },
      "source": [
        " ## 1.4 Array Indexing, Slicing and Iterating"
      ]
    },
    {
      "cell_type": "markdown",
      "metadata": {
        "id": "JXgPgX2DxCEN"
      },
      "source": [
        " #### 1.4.1 Indexing"
      ]
    },
    {
      "cell_type": "markdown",
      "metadata": {
        "id": "DqhicwwHxCEO"
      },
      "source": [
        " a. One-dimensional array\n",
        " - One-dimensional array is very **similar** to python lists\n",
        " - Array elements can be refered to by their indices. Also, array index start at 0"
      ]
    },
    {
      "cell_type": "code",
      "metadata": {
        "id": "FSPkouTcxCEO",
        "outputId": "890e6da8-9a63-436b-a7db-11524f518812",
        "colab": {
          "base_uri": "https://localhost:8080/",
          "height": 35
        }
      },
      "source": [
        "a = np.array([0, 1, 2, 3, 4, 5])\n",
        "print(f'a = {a}')"
      ],
      "execution_count": null,
      "outputs": [
        {
          "output_type": "stream",
          "text": [
            "a = [0 1 2 3 4 5]\n"
          ],
          "name": "stdout"
        }
      ]
    },
    {
      "cell_type": "code",
      "metadata": {
        "id": "SeSlGwJpxCEQ",
        "outputId": "db46e57d-da3b-4b2f-a207-9637d5b0369d",
        "colab": {
          "base_uri": "https://localhost:8080/",
          "height": 121
        }
      },
      "source": [
        "for i in range(0, a.size):\n",
        "    print(f\"a[{i}] = {a[i]}\")"
      ],
      "execution_count": null,
      "outputs": [
        {
          "output_type": "stream",
          "text": [
            "a[0] = 0\n",
            "a[1] = 1\n",
            "a[2] = 2\n",
            "a[3] = 3\n",
            "a[4] = 4\n",
            "a[5] = 5\n"
          ],
          "name": "stdout"
        }
      ]
    },
    {
      "cell_type": "markdown",
      "metadata": {
        "id": "D-tawr8zxCER"
      },
      "source": [
        " b. Multi-dimensional array\n",
        " - Element can be indexed given indices for each axis"
      ]
    },
    {
      "cell_type": "code",
      "metadata": {
        "id": "0N0l2cTRxCES",
        "outputId": "0d65a789-5256-43bd-e69b-00b9e6f3bc7d",
        "colab": {
          "base_uri": "https://localhost:8080/",
          "height": 156
        }
      },
      "source": [
        "b = np.fromfunction(lambda x, y: 10*x + y, (4, 4), dtype=int)\n",
        "print(\"b = \")\n",
        "print(b)\n",
        "\n",
        "print(f\"\\nb[2,3] = {b[2,3]}\")\n",
        "print(f\"b[0:4, 0] = {b[0:4, 0]}\")"
      ],
      "execution_count": null,
      "outputs": [
        {
          "output_type": "stream",
          "text": [
            "b = \n",
            "[[ 0  1  2  3]\n",
            " [10 11 12 13]\n",
            " [20 21 22 23]\n",
            " [30 31 32 33]]\n",
            "\n",
            "b[2,3] = 23\n",
            "b[0:4, 0] = [ 0 10 20 30]\n"
          ],
          "name": "stdout"
        }
      ]
    },
    {
      "cell_type": "markdown",
      "metadata": {
        "id": "2Jf6iN-YxCET"
      },
      "source": [
        "### 1.4.2 Slicing\n",
        " Slicing operation is very similar to regular python list. We just need to consider each axis in turn.\n",
        " If you omit any values, NumPy will use default values.\n",
        " For example, consider below example, since we omit both starting and ending indices along the first axis, the default values will be used."
      ]
    },
    {
      "cell_type": "code",
      "metadata": {
        "id": "nXwoocTDxCEU",
        "outputId": "b5977dcb-083d-4056-e987-0af88b706f14",
        "colab": {
          "base_uri": "https://localhost:8080/",
          "height": 52
        }
      },
      "source": [
        "print(\"The next line is equivalent to b[0:4, 0]\")\n",
        "print(f\"b[:, 0] = {b[ : , 0]}\")"
      ],
      "execution_count": null,
      "outputs": [
        {
          "output_type": "stream",
          "text": [
            "The next line is equivalent to b[0:4, 0]\n",
            "b[:, 0] = [ 0 10 20 30]\n"
          ],
          "name": "stdout"
        }
      ]
    },
    {
      "cell_type": "markdown",
      "metadata": {
        "id": "_9RQyIPwxCEV"
      },
      "source": [
        " Missing axis indices will be considered as complete slices\n",
        " For example, the below example omit the second axis."
      ]
    },
    {
      "cell_type": "code",
      "metadata": {
        "id": "InWS7VPRxCEW",
        "outputId": "f199ca98-5c1c-4eaa-be8f-8e483f34fec9",
        "colab": {
          "base_uri": "https://localhost:8080/",
          "height": 52
        }
      },
      "source": [
        "print(f\"b[3] = {b[3]}\")\n",
        "print(f\"This is equivalent to b[3,:] = {b[3,:]}\")"
      ],
      "execution_count": null,
      "outputs": [
        {
          "output_type": "stream",
          "text": [
            "b[3] = [30 31 32 33]\n",
            "This is equivalent to b[3,:] = [30 31 32 33]\n"
          ],
          "name": "stdout"
        }
      ]
    },
    {
      "cell_type": "markdown",
      "metadata": {
        "id": "Q9pxgAdbxCEX"
      },
      "source": [
        " You can find more examples below"
      ]
    },
    {
      "cell_type": "code",
      "metadata": {
        "id": "ywWDIKctxCEY",
        "outputId": "62f70605-5636-46d1-ec64-d9b1652bd02c",
        "colab": {
          "base_uri": "https://localhost:8080/",
          "height": 243
        }
      },
      "source": [
        "a = np.arange(10)\n",
        "print('a =', a)\n",
        "print('a[0] =', a[0])\n",
        "print('a[:9: =]', a[:9:])\n",
        "#a[end] is not included in a[start:end:1]\n",
        "print('a[:10: =]', a[:10:])\n",
        "a[0] = 5\n",
        "print('a =', a)\n",
        "#print('a[10] =', a[10])\n",
        "b = np.array([[1, 2, 3, 4, 5],\n",
        "              [6, 7, 8, 9, 10]])\n",
        "print('\\nb =\\n', b)\n",
        "print('b[1, 3] =', b[1, 3])\n",
        "print('b[1, ::2] =', b[1, ::2])\n",
        "print('b[1, :4:2] =', b[1, :4:2])\n",
        "print('b[1, 1:4:2] =', b[1, 1:4:2])\n",
        "# slicing: start:end --exclude end but include start\n",
        "# extended slicing  start:end:step"
      ],
      "execution_count": null,
      "outputs": [
        {
          "output_type": "stream",
          "text": [
            "a = [0 1 2 3 4 5 6 7 8 9]\n",
            "a[0] = 0\n",
            "a[:9: =] [0 1 2 3 4 5 6 7 8]\n",
            "a[:10: =] [0 1 2 3 4 5 6 7 8 9]\n",
            "a = [5 1 2 3 4 5 6 7 8 9]\n",
            "\n",
            "b =\n",
            " [[ 1  2  3  4  5]\n",
            " [ 6  7  8  9 10]]\n",
            "b[1, 3] = 9\n",
            "b[1, ::2] = [ 6  8 10]\n",
            "b[1, :4:2] = [6 8]\n",
            "b[1, 1:4:2] = [7 9]\n"
          ],
          "name": "stdout"
        }
      ]
    },
    {
      "cell_type": "markdown",
      "metadata": {
        "id": "FyEmOtyIxCEZ"
      },
      "source": [
        " ## 1.5 Array of Zeros, Ones\n",
        " a. Zeros Array"
      ]
    },
    {
      "cell_type": "code",
      "metadata": {
        "id": "pwDWGoLVxCEa",
        "outputId": "a00949d2-22f7-4bd2-c68e-a7404bf2d7aa",
        "colab": {
          "base_uri": "https://localhost:8080/"
        }
      },
      "source": [
        "zeros = np.zeros((8, 8), dtype=int)\n",
        "zeros"
      ],
      "execution_count": null,
      "outputs": [
        {
          "output_type": "execute_result",
          "data": {
            "text/plain": [
              "array([[0, 0, 0, 0, 0, 0, 0, 0],\n",
              "       [0, 0, 0, 0, 0, 0, 0, 0],\n",
              "       [0, 0, 0, 0, 0, 0, 0, 0],\n",
              "       [0, 0, 0, 0, 0, 0, 0, 0],\n",
              "       [0, 0, 0, 0, 0, 0, 0, 0],\n",
              "       [0, 0, 0, 0, 0, 0, 0, 0],\n",
              "       [0, 0, 0, 0, 0, 0, 0, 0],\n",
              "       [0, 0, 0, 0, 0, 0, 0, 0]])"
            ]
          },
          "metadata": {
            "tags": []
          },
          "execution_count": 24
        }
      ]
    },
    {
      "cell_type": "markdown",
      "metadata": {
        "id": "cdgPkK-bxCEc"
      },
      "source": [
        " b. Ones array"
      ]
    },
    {
      "cell_type": "code",
      "metadata": {
        "id": "odYeB4eSxCEc",
        "outputId": "bdff2b8b-ea58-4d7a-8aed-12439ea2f9d9",
        "colab": {
          "base_uri": "https://localhost:8080/"
        }
      },
      "source": [
        "ones = np.ones((8, 8), dtype=int)\n",
        "ones"
      ],
      "execution_count": null,
      "outputs": [
        {
          "output_type": "execute_result",
          "data": {
            "text/plain": [
              "array([[1, 1, 1, 1, 1, 1, 1, 1],\n",
              "       [1, 1, 1, 1, 1, 1, 1, 1],\n",
              "       [1, 1, 1, 1, 1, 1, 1, 1],\n",
              "       [1, 1, 1, 1, 1, 1, 1, 1],\n",
              "       [1, 1, 1, 1, 1, 1, 1, 1],\n",
              "       [1, 1, 1, 1, 1, 1, 1, 1],\n",
              "       [1, 1, 1, 1, 1, 1, 1, 1],\n",
              "       [1, 1, 1, 1, 1, 1, 1, 1]])"
            ]
          },
          "metadata": {
            "tags": []
          },
          "execution_count": 25
        }
      ]
    },
    {
      "cell_type": "markdown",
      "metadata": {
        "id": "s-7Q039-xCEe"
      },
      "source": [
        " c. Array with random elements\n",
        " You can generate an array filled with random floats in the half-open interval [0.0, 1.0)."
      ]
    },
    {
      "cell_type": "code",
      "metadata": {
        "id": "xrOe5HmlxCEe",
        "outputId": "f7c106b6-8760-458d-ae13-046bff0cce14",
        "colab": {
          "base_uri": "https://localhost:8080/"
        }
      },
      "source": [
        "random_nums = np.random.random((2, 2))\n",
        "random_nums"
      ],
      "execution_count": null,
      "outputs": [
        {
          "output_type": "execute_result",
          "data": {
            "text/plain": [
              "array([[0.22396255, 0.83205825],\n",
              "       [0.37194493, 0.43270117]])"
            ]
          },
          "metadata": {
            "tags": []
          },
          "execution_count": 26
        }
      ]
    },
    {
      "cell_type": "markdown",
      "metadata": {
        "id": "RFp8DcqlxCEg"
      },
      "source": [
        " Sometimes it is useful to have a sequence of repeatable/predicatble random numbers. The function random.seed(x) tells random.random() function to generate a sequence of random numbers with seed of x. That is, whenever random.seed(x) is called, the following random numbers generated from random.random() are the same."
      ]
    },
    {
      "cell_type": "code",
      "metadata": {
        "id": "VpcV6848xCEg",
        "outputId": "01f53826-a9d4-4ea4-d136-ad11ebc05df6",
        "colab": {
          "base_uri": "https://localhost:8080/"
        }
      },
      "source": [
        "np.random.seed(5)\n",
        "np.set_printoptions(precision=2)\n",
        "print('Now the random seed is set to 5. Whenver the seed is set to 5, the sequence of random numbers from random.random() should be the same')\n",
        "a = np.random.random((2, 3))\n",
        "print('random array a =\\n', a)\n",
        "b = np.random.random((2, 3))\n",
        "print('random array b =\\n', b)\n",
        "np.random.seed(5)\n",
        "print(\"Now the random seed is reset to 5. The random numbers generated from random.random() should be repeated as above/\")\n",
        "a = np.random.random((2, 3))\n",
        "print('random array a =\\n', a)\n",
        "b = np.random.random((2, 3))\n",
        "print('random array b =\\n', b)\n",
        "np.random.seed(4)\n",
        "print(\"Now the random seed is reset to 4. The random numbers generated from random.random() should not be the same as above/\")\n",
        "a = np.random.random((2, 3))\n",
        "print('random array a =\\n', a)\n",
        "b = np.random.random((2, 3))\n",
        "print('random array b =\\n', b)"
      ],
      "execution_count": null,
      "outputs": [
        {
          "output_type": "stream",
          "text": [
            "Now the random seed is set to 5. Whenver the seed is set to 5, the sequence of random numbers from random.random() should be the same\n",
            "random array a =\n",
            " [[0.22 0.87 0.21]\n",
            " [0.92 0.49 0.61]]\n",
            "random array b =\n",
            " [[0.77 0.52 0.3 ]\n",
            " [0.19 0.08 0.74]]\n",
            "Now the random seed is reset to 5. The random numbers generated from random.random() should be repeated as above/\n",
            "random array a =\n",
            " [[0.22 0.87 0.21]\n",
            " [0.92 0.49 0.61]]\n",
            "random array b =\n",
            " [[0.77 0.52 0.3 ]\n",
            " [0.19 0.08 0.74]]\n",
            "Now the random seed is reset to 4. The random numbers generated from random.random() should not be the same as above/\n",
            "random array a =\n",
            " [[0.97 0.55 0.97]\n",
            " [0.71 0.7  0.22]]\n",
            "random array b =\n",
            " [[0.98 0.01 0.25]\n",
            " [0.43 0.78 0.2 ]]\n"
          ],
          "name": "stdout"
        }
      ]
    },
    {
      "cell_type": "markdown",
      "metadata": {
        "id": "PgPA0RoVxCEi"
      },
      "source": [
        " Example to create a 8x8 matrix and fill it with a checkerboard pattern\n",
        " from http://www.labri.fr/perso/nrougier/teaching/numpy.100/"
      ]
    },
    {
      "cell_type": "code",
      "metadata": {
        "id": "Frut9qD9xCEi",
        "outputId": "1cb5e7ad-9847-4146-8fcc-f02990876796",
        "colab": {
          "base_uri": "https://localhost:8080/"
        }
      },
      "source": [
        "Z = np.zeros((8, 8), dtype=int)\n",
        "print('z =')\n",
        "print(Z)\n",
        "Z[1::2, :] = 1\n",
        "print('\\nAfter first slicing:')\n",
        "print(Z)\n",
        "\n",
        "Z[:, ::2] = 1\n",
        "print('\\nAfter second slicing:')\n",
        "print(Z)\n",
        "\n",
        "Z[1::2, ::2] = 1\n",
        "print('\\nAfter third slicing:')\n",
        "print(Z)\n",
        "\n",
        "Z[1::2, 0::2] = 0\n",
        "print(\"\\nAfter the last slicing:\")\n",
        "print(Z)"
      ],
      "execution_count": null,
      "outputs": [
        {
          "output_type": "stream",
          "text": [
            "z =\n",
            "[[0 0 0 0 0 0 0 0]\n",
            " [0 0 0 0 0 0 0 0]\n",
            " [0 0 0 0 0 0 0 0]\n",
            " [0 0 0 0 0 0 0 0]\n",
            " [0 0 0 0 0 0 0 0]\n",
            " [0 0 0 0 0 0 0 0]\n",
            " [0 0 0 0 0 0 0 0]\n",
            " [0 0 0 0 0 0 0 0]]\n",
            "\n",
            "After first slicing:\n",
            "[[0 0 0 0 0 0 0 0]\n",
            " [1 1 1 1 1 1 1 1]\n",
            " [0 0 0 0 0 0 0 0]\n",
            " [1 1 1 1 1 1 1 1]\n",
            " [0 0 0 0 0 0 0 0]\n",
            " [1 1 1 1 1 1 1 1]\n",
            " [0 0 0 0 0 0 0 0]\n",
            " [1 1 1 1 1 1 1 1]]\n",
            "\n",
            "After second slicing:\n",
            "[[1 0 1 0 1 0 1 0]\n",
            " [1 1 1 1 1 1 1 1]\n",
            " [1 0 1 0 1 0 1 0]\n",
            " [1 1 1 1 1 1 1 1]\n",
            " [1 0 1 0 1 0 1 0]\n",
            " [1 1 1 1 1 1 1 1]\n",
            " [1 0 1 0 1 0 1 0]\n",
            " [1 1 1 1 1 1 1 1]]\n",
            "\n",
            "After third slicing:\n",
            "[[1 0 1 0 1 0 1 0]\n",
            " [1 1 1 1 1 1 1 1]\n",
            " [1 0 1 0 1 0 1 0]\n",
            " [1 1 1 1 1 1 1 1]\n",
            " [1 0 1 0 1 0 1 0]\n",
            " [1 1 1 1 1 1 1 1]\n",
            " [1 0 1 0 1 0 1 0]\n",
            " [1 1 1 1 1 1 1 1]]\n",
            "\n",
            "After the last slicing:\n",
            "[[1 0 1 0 1 0 1 0]\n",
            " [0 1 0 1 0 1 0 1]\n",
            " [1 0 1 0 1 0 1 0]\n",
            " [0 1 0 1 0 1 0 1]\n",
            " [1 0 1 0 1 0 1 0]\n",
            " [0 1 0 1 0 1 0 1]\n",
            " [1 0 1 0 1 0 1 0]\n",
            " [0 1 0 1 0 1 0 1]]\n"
          ],
          "name": "stdout"
        }
      ]
    },
    {
      "cell_type": "markdown",
      "metadata": {
        "id": "C2ukIGMExCEl"
      },
      "source": [
        " The result in a more attractive form"
      ]
    },
    {
      "cell_type": "code",
      "metadata": {
        "id": "9nDid-VSxCEl",
        "outputId": "93f2698e-3c67-4e25-ee0f-a1e28e16d1bc",
        "colab": {
          "base_uri": "https://localhost:8080/"
        }
      },
      "source": [
        "plt.imshow(Z.astype(int))"
      ],
      "execution_count": null,
      "outputs": [
        {
          "output_type": "execute_result",
          "data": {
            "text/plain": [
              "<matplotlib.image.AxesImage at 0x7fc247865b38>"
            ]
          },
          "metadata": {
            "tags": []
          },
          "execution_count": 29
        },
        {
          "output_type": "display_data",
          "data": {
            "image/png": "[encoded data removed]",
            "text/plain": [
              "<Figure size 432x288 with 1 Axes>"
            ]
          },
          "metadata": {
            "tags": [],
            "needs_background": "light"
          }
        }
      ]
    },
    {
      "cell_type": "markdown",
      "metadata": {
        "id": "P6aR5cmwxCEn"
      },
      "source": [
        "## 1.6 Exercise: Create a 12x12 array with 1 on the border and 0 inside"
      ]
    },
    {
      "cell_type": "code",
      "metadata": {
        "id": "N-XI-sLuxCEo",
        "outputId": "d4c1597a-e87c-4399-c2da-511857d348af",
        "colab": {
          "base_uri": "https://localhost:8080/",
          "height": 716
        }
      },
      "source": [
        "# This is a solution to the exercise above\n",
        "\n",
        "# create a 12x12 array of ones\n",
        "a = np.ones((12, 12))\n",
        "print(a)\n",
        "# set the elements in the middle to 0\n",
        "a[1:a.shape[0] - 1, 1:a.shape[1]-1] = 0\n",
        "print()\n",
        "print(a)\n",
        "# display the array\n",
        "# Show the above matrix as a checker board\n",
        "plt.imshow(a.astype(int))"
      ],
      "execution_count": null,
      "outputs": [
        {
          "output_type": "stream",
          "text": [
            "[[1. 1. 1. 1. 1. 1. 1. 1. 1. 1. 1. 1.]\n",
            " [1. 1. 1. 1. 1. 1. 1. 1. 1. 1. 1. 1.]\n",
            " [1. 1. 1. 1. 1. 1. 1. 1. 1. 1. 1. 1.]\n",
            " [1. 1. 1. 1. 1. 1. 1. 1. 1. 1. 1. 1.]\n",
            " [1. 1. 1. 1. 1. 1. 1. 1. 1. 1. 1. 1.]\n",
            " [1. 1. 1. 1. 1. 1. 1. 1. 1. 1. 1. 1.]\n",
            " [1. 1. 1. 1. 1. 1. 1. 1. 1. 1. 1. 1.]\n",
            " [1. 1. 1. 1. 1. 1. 1. 1. 1. 1. 1. 1.]\n",
            " [1. 1. 1. 1. 1. 1. 1. 1. 1. 1. 1. 1.]\n",
            " [1. 1. 1. 1. 1. 1. 1. 1. 1. 1. 1. 1.]\n",
            " [1. 1. 1. 1. 1. 1. 1. 1. 1. 1. 1. 1.]\n",
            " [1. 1. 1. 1. 1. 1. 1. 1. 1. 1. 1. 1.]]\n",
            "\n",
            "[[1. 1. 1. 1. 1. 1. 1. 1. 1. 1. 1. 1.]\n",
            " [1. 0. 0. 0. 0. 0. 0. 0. 0. 0. 0. 1.]\n",
            " [1. 0. 0. 0. 0. 0. 0. 0. 0. 0. 0. 1.]\n",
            " [1. 0. 0. 0. 0. 0. 0. 0. 0. 0. 0. 1.]\n",
            " [1. 0. 0. 0. 0. 0. 0. 0. 0. 0. 0. 1.]\n",
            " [1. 0. 0. 0. 0. 0. 0. 0. 0. 0. 0. 1.]\n",
            " [1. 0. 0. 0. 0. 0. 0. 0. 0. 0. 0. 1.]\n",
            " [1. 0. 0. 0. 0. 0. 0. 0. 0. 0. 0. 1.]\n",
            " [1. 0. 0. 0. 0. 0. 0. 0. 0. 0. 0. 1.]\n",
            " [1. 0. 0. 0. 0. 0. 0. 0. 0. 0. 0. 1.]\n",
            " [1. 0. 0. 0. 0. 0. 0. 0. 0. 0. 0. 1.]\n",
            " [1. 1. 1. 1. 1. 1. 1. 1. 1. 1. 1. 1.]]\n"
          ],
          "name": "stdout"
        },
        {
          "output_type": "execute_result",
          "data": {
            "text/plain": [
              "<matplotlib.image.AxesImage at 0x7fc2473a1518>"
            ]
          },
          "metadata": {
            "tags": []
          },
          "execution_count": 30
        },
        {
          "output_type": "display_data",
          "data": {
            "image/png": "[encoded data removed]",
            "text/plain": [
              "<Figure size 432x288 with 1 Axes>"
            ]
          },
          "metadata": {
            "tags": [],
            "needs_background": "light"
          }
        }
      ]
    },
    {
      "cell_type": "markdown",
      "metadata": {
        "id": "ROaSIuAJxCEp"
      },
      "source": [
        " ## 1.7 Array of Numbers in a Sequence\n",
        " <ul>\n",
        "     <li>arange(start, end, step): return evenly spaced values within a given interval [start, end). step size determine the increment between an element and its predecessor.\n",
        "     <li>linspace(start, end, num_elements): creates an array of start, start + step, start + 2 * step, ... where step = (end - start) / num_elements. Note that the end number maybe included.\n",
        "     <li> Due to finite floating point precision, it is difficult to predict the number of elements for arange. Avoid to use arange when step is not an integer.\n",
        " </ul>"
      ]
    },
    {
      "cell_type": "code",
      "metadata": {
        "id": "i9YCUaqZxCEq",
        "outputId": "89ccb48f-f76b-490f-e038-d15d90441a5b",
        "colab": {
          "base_uri": "https://localhost:8080/",
          "height": 121
        }
      },
      "source": [
        "a = np.arange(1, 10, 2)\n",
        "print('a =')\n",
        "print(a)\n",
        "print('a.size = {}'.format(a.size))\n",
        "\n",
        "b = np.linspace(1.0, 5.0, 9)\n",
        "print('b =')\n",
        "print(b)\n",
        "print('b.size = {}'.format(b.size))"
      ],
      "execution_count": null,
      "outputs": [
        {
          "output_type": "stream",
          "text": [
            "a =\n",
            "[1 3 5 7 9]\n",
            "a.size = 5\n",
            "b =\n",
            "[1.  1.5 2.  2.5 3.  3.5 4.  4.5 5. ]\n",
            "b.size = 9\n"
          ],
          "name": "stdout"
        }
      ]
    },
    {
      "cell_type": "markdown",
      "metadata": {
        "id": "zEJJA0wExCEr"
      },
      "source": [
        " ## 1.8 Axis Paramters in Functions\n",
        " Functions may take axis as a parameter. Now let's understand how the axis parameter works for np.sum()."
      ]
    },
    {
      "cell_type": "code",
      "metadata": {
        "id": "ZwAiHXx8xCEs",
        "outputId": "ccf59f88-2b9f-4973-9471-026b795d70ed",
        "colab": {
          "base_uri": "https://localhost:8080/",
          "height": 191
        }
      },
      "source": [
        "a = np.array([[1, 2, 3], [4, 5, 6]])\n",
        "print(\"a = \")\n",
        "print(a)\n",
        "\n",
        "# sum the array elements by column\n",
        "# 'axis = 0'\n",
        "sum_by_axis_zero = np.sum(a, axis=0)\n",
        "print(f'\\nSum_by_axis_zero = {sum_by_axis_zero}\\n')\n",
        "\n",
        "# sum the array elements by row\n",
        "sum_by_axis_one = np.sum(a, axis=1)\n",
        "print(f'Sum_by_axis_one = {sum_by_axis_one}\\n')\n",
        "\n",
        "# sum all the array elements\n",
        "print(f'Sum of all elements = {np.sum(a)}\\n')"
      ],
      "execution_count": null,
      "outputs": [
        {
          "output_type": "stream",
          "text": [
            "a = \n",
            "[[1 2 3]\n",
            " [4 5 6]]\n",
            "\n",
            "Sum_by_axis_zero = [5 7 9]\n",
            "\n",
            "Sum_by_axis_one = [ 6 15]\n",
            "\n",
            "Sum of all elements = 21\n",
            "\n"
          ],
          "name": "stdout"
        }
      ]
    },
    {
      "cell_type": "code",
      "metadata": {
        "id": "LiBOvhM2xCEu",
        "outputId": "2127b496-2821-4afb-f960-8caad04e69b3",
        "colab": {
          "base_uri": "https://localhost:8080/",
          "height": 589
        }
      },
      "source": [
        "# Now let's see how the axis parameter works for np.apply_along_axis():\n",
        "# the function takes the slicing along the specified axis parameter\n",
        "#  numpy.apply_along_axis(func1d, axis, arr, *args, **kwargs)\n",
        "def distance(x, y, p):\n",
        "    distance = pow(\n",
        "        np.sum(np.power(np.abs(x.astype('int') - y.astype('int')), p)), 1/p)\n",
        "    return distance\n",
        "\n",
        "\n",
        "x = np.array([[1, 2, 3], [4, 5, 6], [7, 8, 9]])\n",
        "print(x.shape)\n",
        "print('x = ')\n",
        "print(x)\n",
        "\n",
        "y = np.ones(3)\n",
        "print(f'\\ny = {y}')\n",
        "\n",
        "p = 1\n",
        "z = np.apply_along_axis(distance, 1, x, y=y, p=p)\n",
        "print(f'\\nApply distance function on dimension 1 of x: z = {z}')\n",
        "\n",
        "z = np.apply_along_axis(distance, 0, x, y=y, p=p)\n",
        "print(f'\\nApply distance function on dimension 0 of x: z = {z}')\n",
        "\n",
        "print(\"\\nNow let's compare some slicings\")\n",
        "print(f'\\nx[:,1] = {x[:, 1]}')\n",
        "\n",
        "print(f'\\nx[:2] = \\n{x[:2]}')\n",
        "\n",
        "print(f'\\nx[:2,:] = \\n{x[:2, :]}')\n",
        "\n",
        "print(f'\\nx[:,:1] = \\n{x[:, :1]}')\n",
        "\n",
        "print(f'\\nx[:,:2] = \\n{x[:, :2]}')"
      ],
      "execution_count": null,
      "outputs": [
        {
          "output_type": "stream",
          "text": [
            "(3, 3)\n",
            "x = \n",
            "[[1 2 3]\n",
            " [4 5 6]\n",
            " [7 8 9]]\n",
            "\n",
            "y = [1. 1. 1.]\n",
            "\n",
            "Apply distance function on dimension 1 of x: z = [ 3. 12. 21.]\n",
            "\n",
            "Apply distance function on dimension 0 of x: z = [ 9. 12. 15.]\n",
            "\n",
            "Now let's compare some slicings\n",
            "\n",
            "x[:,1] = [2 5 8]\n",
            "\n",
            "x[:2] = \n",
            "[[1 2 3]\n",
            " [4 5 6]]\n",
            "\n",
            "x[:2,:] = \n",
            "[[1 2 3]\n",
            " [4 5 6]]\n",
            "\n",
            "x[:,:1] = \n",
            "[[1]\n",
            " [4]\n",
            " [7]]\n",
            "\n",
            "x[:,:2] = \n",
            "[[1 2]\n",
            " [4 5]\n",
            " [7 8]]\n"
          ],
          "name": "stdout"
        }
      ]
    },
    {
      "cell_type": "markdown",
      "metadata": {
        "id": "5J65h-g9xCE3"
      },
      "source": [
        " ## 1.10 Array Indexes: Boolean Indexes\n",
        " Booleans can be used in an array of indexes to select elements from an array x.\n",
        " <ul>\n",
        "     <li> The array of indexes b should have the same shape of array x.\n",
        "     <li> An element of array a is selected by x[b] if its corresponding boolean value in b is True.\n",
        " </ul>"
      ]
    },
    {
      "cell_type": "code",
      "metadata": {
        "id": "wRcfFmi4xCE3",
        "outputId": "0b42f912-5fab-4db6-a2ad-d41c4a739de6",
        "colab": {
          "base_uri": "https://localhost:8080/",
          "height": 347
        }
      },
      "source": [
        "a = np.random.random(12).reshape(3, 4)\n",
        "print('a =')\n",
        "print(a)\n",
        "b = a > 0.5\n",
        "print('\\nb =')\n",
        "print(b)\n",
        "print(f'\\na[b] = {a[b]}')\n",
        "\n",
        "print(f'a[b].shape = {a[b].shape}')\n",
        "print('a[b].ndim = ', a[b].ndim)\n",
        "\n",
        "a[b] = 1\n",
        "print(f'\\nAfter a[b] = 1')\n",
        "print('a =')\n",
        "print(a)"
      ],
      "execution_count": null,
      "outputs": [
        {
          "output_type": "stream",
          "text": [
            "a =\n",
            "[[0.86 0.98 0.16 0.6 ]\n",
            " [0.01 0.39 0.04 0.96]\n",
            " [0.44 0.95 0.79 0.87]]\n",
            "\n",
            "b =\n",
            "[[ True  True False  True]\n",
            " [False False False  True]\n",
            " [False  True  True  True]]\n",
            "\n",
            "a[b] = [0.86 0.98 0.6  0.96 0.95 0.79 0.87]\n",
            "a[b].shape = (7,)\n",
            "a[b].ndim =  1\n",
            "\n",
            "After a[b] = 1\n",
            "a =\n",
            "[[1.   1.   0.16 1.  ]\n",
            " [0.01 0.39 0.04 1.  ]\n",
            " [0.44 1.   1.   1.  ]]\n"
          ],
          "name": "stdout"
        }
      ]
    },
    {
      "cell_type": "markdown",
      "metadata": {
        "id": "JswCYDb_xCE4"
      },
      "source": [
        "## 1.11 Monte Carlo Estimation of Pi\n",
        "For more information about Monte Carlo method, check out [this link](https://academo.org/demos/estimating-pi-monte-carlo/). The following example uses NumPy to estimate the value of pi."
      ]
    },
    {
      "cell_type": "code",
      "metadata": {
        "id": "tOg_ARoMxCE5",
        "outputId": "534d632c-0a10-4288-828f-b3ec2395a47c",
        "colab": {
          "base_uri": "https://localhost:8080/"
        }
      },
      "source": [
        "NUM_POINTS = 2000000\n",
        "point = np.random.random((NUM_POINTS, 2))\n",
        "point_index = np.sqrt(point[:, 0]**2 + point[:, 1]**2) < 1\n",
        "print(f\"Indices of points within the circle = {point_index}\")\n",
        "print(f\"Value of pi = {4 * len(point[point_index == True])/NUM_POINTS}\")"
      ],
      "execution_count": null,
      "outputs": [
        {
          "output_type": "stream",
          "text": [
            "Indices of points within the circle = [ True  True  True ...  True  True False]\n",
            "Value of pi = 3.141658\n"
          ],
          "name": "stdout"
        }
      ]
    },
    {
      "cell_type": "markdown",
      "metadata": {
        "id": "SJPWRlUqxCE6"
      },
      "source": [
        " ## 1.12 Exercise: Negate Array Elements"
      ]
    },
    {
      "cell_type": "code",
      "metadata": {
        "id": "WzMp0CZnxCE6",
        "outputId": "534a8db8-c992-40d3-c49e-3da867e0674a",
        "colab": {
          "base_uri": "https://localhost:8080/",
          "height": 121
        }
      },
      "source": [
        "a = np.random.randint(10, size=(5, 5))\n",
        "print('Before negation, a =')\n",
        "print(a)"
      ],
      "execution_count": null,
      "outputs": [
        {
          "output_type": "stream",
          "text": [
            "Before negation, a =\n",
            "[[1 6 0 2 0]\n",
            " [2 3 0 0 8]\n",
            " [9 7 2 9 8]\n",
            " [4 0 3 9 3]\n",
            " [1 6 2 6 3]]\n"
          ],
          "name": "stdout"
        }
      ]
    },
    {
      "cell_type": "markdown",
      "metadata": {
        "id": "i4RHzw9SxCE8"
      },
      "source": [
        " Write a program to negate elements of array a which are between 4 and 6 (including 4 and 6)"
      ]
    },
    {
      "cell_type": "code",
      "metadata": {
        "id": "NHYQWiNGxCE9",
        "outputId": "fb404062-1f69-4645-a1c3-d8a32d7c6538",
        "colab": {
          "base_uri": "https://localhost:8080/",
          "height": 260
        }
      },
      "source": [
        "# This is a solution to the exercise above\n",
        "a = np.random.randint(10, size=(5, 5))\n",
        "print('Before negation, a =')\n",
        "print(a)\n",
        "\n",
        "# write a program to negatve elements of array a which are between 4 and 6\n",
        "b = a[(3 < a) * (a < 7)]\n",
        "print('\\nBoolean index array b =', b)\n",
        "a[(3 < a) & (a < 7)] *= -1\n",
        "print('After negation, a =')\n",
        "print(a)"
      ],
      "execution_count": null,
      "outputs": [
        {
          "output_type": "stream",
          "text": [
            "Before negation, a =\n",
            "[[8 5 4 7 5]\n",
            " [8 6 3 8 1]\n",
            " [1 4 0 1 0]\n",
            " [9 4 9 7 5]\n",
            " [8 1 3 6 3]]\n",
            "\n",
            "Boolean index array b = [5 4 5 6 4 4 5 6]\n",
            "After negation, a =\n",
            "[[ 8 -5 -4  7 -5]\n",
            " [ 8 -6  3  8  1]\n",
            " [ 1 -4  0  1  0]\n",
            " [ 9 -4  9  7 -5]\n",
            " [ 8  1  3 -6  3]]\n"
          ],
          "name": "stdout"
        }
      ]
    },
    {
      "cell_type": "markdown",
      "metadata": {
        "id": "MnsHEZXixCE-"
      },
      "source": [
        " ## 1.13 Array of indexes for One Dimensional Array\n",
        " For a one dimensional array a, an array of indexes from array a can be used to select elements from array to form a new array such that\n",
        " <ul>\n",
        "     <li> Each element in the array of indexes is an index of array a.\n",
        "     <li> The new array b has the same shape as the array of indexes.\n",
        " </ul>"
      ]
    },
    {
      "cell_type": "code",
      "metadata": {
        "id": "gW_wwUyRxCE_",
        "outputId": "7d087f17-d41d-4c0f-fad5-90d8478577c6",
        "colab": {
          "base_uri": "https://localhost:8080/",
          "height": 173
        }
      },
      "source": [
        "a = np.arange(12) + 10\n",
        "print('a =', a)\n",
        "array_indexes = np.array([0, 0, 3, 4, 3])\n",
        "print('a[array_indexes] =', a[array_indexes])\n",
        "array_indexes = np.array([[0, 0, 2], [1, 3, 4]])\n",
        "print('array_indexes = ')\n",
        "print(array_indexes)\n",
        "print('To show that the new array has the same shape as the array of indexes')\n",
        "print('a[array_indexes] =')\n",
        "print(a[array_indexes])"
      ],
      "execution_count": null,
      "outputs": [
        {
          "output_type": "stream",
          "text": [
            "a = [10 11 12 13 14 15 16 17 18 19 20 21]\n",
            "a[array_indexes] = [10 10 13 14 13]\n",
            "array_indexes = \n",
            "[[0 0 2]\n",
            " [1 3 4]]\n",
            "To show that the new array has the same shape as the array of indexes\n",
            "a[array_indexes] =\n",
            "[[10 10 12]\n",
            " [11 13 14]]\n"
          ],
          "name": "stdout"
        }
      ]
    },
    {
      "cell_type": "markdown",
      "metadata": {
        "id": "enRWCUnlxCFA"
      },
      "source": [
        "**Note:** We can index into multi-dimensional arrays with index arrays too. However, this situation does not come very often. If you are interested, please check [this link](https://docs.scipy.org/doc/numpy-1.13.0/user/basics.indexing.html)"
      ]
    },
    {
      "cell_type": "markdown",
      "metadata": {
        "id": "G8hOKvvExCFA"
      },
      "source": [
        " ## 1.14 Array Assignment: No Copy\n",
        " Recall that assignments such as 'a = b' makes a reference to the same object as b refers to. Think of this as giving **b** array an alias called **a**"
      ]
    },
    {
      "cell_type": "code",
      "metadata": {
        "id": "xhCejnEaxCFA",
        "outputId": "23c5338f-0211-420d-9a00-2150e8fd5686",
        "colab": {
          "base_uri": "https://localhost:8080/",
          "height": 156
        }
      },
      "source": [
        "a = np.arange(12)\n",
        "b = a\n",
        "print('a =', a)\n",
        "print('b =', b)\n",
        "\n",
        "b.shape = (3, 4)\n",
        "print('After reshaping b to (3, 4)')\n",
        "print('a =\\n', a)\n",
        "print(\"Changing the shape of b also changed the shape of a.\")"
      ],
      "execution_count": null,
      "outputs": [
        {
          "output_type": "stream",
          "text": [
            "a = [ 0  1  2  3  4  5  6  7  8  9 10 11]\n",
            "b = [ 0  1  2  3  4  5  6  7  8  9 10 11]\n",
            "After reshaping b to (3, 4)\n",
            "a =\n",
            " [[ 0  1  2  3]\n",
            " [ 4  5  6  7]\n",
            " [ 8  9 10 11]]\n",
            "Changing the shape of b also changed the shape of a.\n"
          ],
          "name": "stdout"
        }
      ]
    },
    {
      "cell_type": "markdown",
      "metadata": {
        "id": "Mua4tjcwxCFB"
      },
      "source": [
        " ## 1.15 Array Copy: Deep Copy\n",
        " For an array a, 'a.copy()' creates a new stand-alone array object."
      ]
    },
    {
      "cell_type": "code",
      "metadata": {
        "id": "BiU6EqWFxCFC",
        "outputId": "b137a9de-b5f6-4f92-99f7-e27eb7e4d6a0",
        "colab": {
          "base_uri": "https://localhost:8080/",
          "height": 121
        }
      },
      "source": [
        "a = np.arange(12)\n",
        "b = a.copy()\n",
        "print('a =', a)\n",
        "print('b =', b)\n",
        "\n",
        "b.shape = (3, 4)\n",
        "print('After reshaping b to (3, 4)')\n",
        "print('a =\\n', a)\n",
        "print(\"Notice that changing the shape of b does not change the shape of a.\")"
      ],
      "execution_count": null,
      "outputs": [
        {
          "output_type": "stream",
          "text": [
            "a = [ 0  1  2  3  4  5  6  7  8  9 10 11]\n",
            "b = [ 0  1  2  3  4  5  6  7  8  9 10 11]\n",
            "After reshaping b to (3, 4)\n",
            "a =\n",
            " [ 0  1  2  3  4  5  6  7  8  9 10 11]\n",
            "Notice that changing the shape of b does not change the shape of a.\n"
          ],
          "name": "stdout"
        }
      ]
    },
    {
      "cell_type": "markdown",
      "metadata": {
        "id": "3_6iSe7mxCFH"
      },
      "source": [
        " # 2 Matplotlib\n",
        "## 2.0 Introduction:\n",
        "\n",
        "Matplotlib is a python 2D plotting library. It\n",
        " <ul>\n",
        "     <li> Produces publication quality figures.\n",
        "     <li> Generates plots, histograms, power spectra, bar charts, etc.\n",
        "     <ul>\n",
        "          <li> The pyplot interface of matplotlib provides a Matlab-like interface.\n",
        "          <li> Full control of line styles, font properties, etc. are provided via an object oriented inteface or a set of functions.\n",
        "          <li> Toolkits are availabe: basemap, cartopy, mplot3d, seaboar, ggplot, etc.\n",
        "     </ul>\n",
        " </ul>\n",
        "\n",
        "<strong>Bonus: looking statistical data visualization library. Check out <a href=\"https://seaborn.pydata.org/\">Seaborn</a></strong> which is built on top of matplotlib.\n",
        "\n",
        "## 2.1 Basic Components\n",
        "![Components of Matplotlib figure](https://matplotlib.org/_images/anatomy.png)\n",
        "\n",
        "*Highly recommend:* [Matplotlib Usage Guide](https://matplotlib.org/tutorials/introductory/usage.html#sphx-glr-tutorials-introductory-usage-py)\n",
        "\n",
        " ## 2.1 Figures\n",
        " A figure contains plot elements: plot, label, legend, etc.\n",
        " <ul>\n",
        "     <li> The matplotlib.figure module provides full control of figures.\n",
        "    <li> Keeps track of children axes.\n",
        " </ul>\n",
        " There is a module in matplotlib called pyplot that provides a collection of functions which work like **MATLAB**.\n",
        "\n",
        " ### 2.1.1 Axes\n",
        " The name is confusion but this can be think of as our plots.\n",
        " <ul>\n",
        "  <li> belong to only 1 figure object.\n",
        "  <li> contains two or more <strong>axis</strong> object (x axis, y axis, etc.). \n",
        " </ul>"
      ]
    },
    {
      "cell_type": "code",
      "metadata": {
        "id": "iABTiREUxCFH",
        "outputId": "6c86b5e1-52d3-40f3-b503-5b1dbda0b159",
        "colab": {
          "base_uri": "https://localhost:8080/",
          "height": 281
        }
      },
      "source": [
        "import matplotlib.pyplot as plt\n",
        "import numpy as np\n",
        "\n",
        "fig = plt.figure()      # create an empty figure\n",
        "plt.title('First Figure')  # put a title on the new empty figure\n",
        "plt.show()            # display the figure"
      ],
      "execution_count": null,
      "outputs": [
        {
          "output_type": "display_data",
          "data": {
            "image/png": "[encoded data removed]",
            "text/plain": [
              "<Figure size 432x288 with 1 Axes>"
            ]
          },
          "metadata": {
            "tags": [],
            "needs_background": "light"
          }
        }
      ]
    },
    {
      "cell_type": "markdown",
      "metadata": {
        "id": "_BQ5tZunxCFJ"
      },
      "source": [
        " ## 2.2 Plotting Data\n",
        " We will mainly focus on matplotlib.pyplot ([documentation](https://matplotlib.org/3.1.1/api/_as_gen/matplotlib.pyplot.html)) state-based interface. This should be sufficient for simple plots. \n",
        " \n",
        "The pyplot.plot() functions plots lines and/or markers to the current figure."
      ]
    },
    {
      "cell_type": "code",
      "metadata": {
        "id": "u1JhP5LCxCFK",
        "outputId": "a1e3896e-6012-4ffb-99c8-7bbe6c2d7aff",
        "colab": {
          "base_uri": "https://localhost:8080/",
          "height": 265
        }
      },
      "source": [
        "# draw lines for the input data x and y\n",
        "plt.plot([1, 2, 3, 4], [1, 4, 9, 16])\n",
        "# draw markers (red o) for the input data x and y\n",
        "plt.plot([3, 4, 5, 9], [9, 16, 5, 2], 'ro') \n",
        "plt.show()"
      ],
      "execution_count": null,
      "outputs": [
        {
          "output_type": "display_data",
          "data": {
            "image/png": "[encoded data removed]",
            "text/plain": [
              "<Figure size 432x288 with 1 Axes>"
            ]
          },
          "metadata": {
            "tags": [],
            "needs_background": "light"
          }
        }
      ]
    },
    {
      "cell_type": "markdown",
      "metadata": {
        "id": "VDppxSUvxCFL"
      },
      "source": [
        "'ro' is a format string in this case. The letters and symbols are from MATLAB. "
      ]
    },
    {
      "cell_type": "markdown",
      "metadata": {
        "id": "TfS3GV0-xCFL"
      },
      "source": [
        "You can also specify the scale of x and y axes."
      ]
    },
    {
      "cell_type": "code",
      "metadata": {
        "id": "OPiQOs8JxCFL",
        "outputId": "b3388e9f-8fb9-4d2b-8f7c-72d93b280dbd",
        "colab": {
          "base_uri": "https://localhost:8080/",
          "height": 269
        }
      },
      "source": [
        "import matplotlib.pyplot as plt\n",
        "plt.plot([1,2,3,4], [1,4,9,16], 'ro')\n",
        "\n",
        "# specify the axes in the form of [xmin, xmax, ymin, ymax]\n",
        "plt.axis([0, 6, 0, 20])\n",
        "plt.show()"
      ],
      "execution_count": null,
      "outputs": [
        {
          "output_type": "display_data",
          "data": {
            "image/png": "[encoded data removed]",
            "text/plain": [
              "<Figure size 432x288 with 1 Axes>"
            ]
          },
          "metadata": {
            "tags": [],
            "needs_background": "light"
          }
        }
      ]
    },
    {
      "cell_type": "markdown",
      "metadata": {
        "id": "Re1VOKIlxCFM"
      },
      "source": [
        "You can plots several lines using only one *plot()* command. You just need to specify your lines one by one."
      ]
    },
    {
      "cell_type": "code",
      "metadata": {
        "id": "beeBd6XqxCFN",
        "outputId": "0a0734f8-fc2e-443d-bcd4-8a2275ed5e1c",
        "colab": {
          "base_uri": "https://localhost:8080/",
          "height": 265
        }
      },
      "source": [
        "t = np.arange(0, 1, 0.1)\n",
        "\n",
        "# red dashes, blue squares and green triangles\n",
        "plt.plot(t, t, 'r--', t, t**2, 'bs', t, t**3, 'g^')\n",
        "plt.show()"
      ],
      "execution_count": null,
      "outputs": [
        {
          "output_type": "display_data",
          "data": {
            "image/png": "[encoded data removed]",
            "text/plain": [
              "<Figure size 432x288 with 1 Axes>"
            ]
          },
          "metadata": {
            "tags": [],
            "needs_background": "light"
          }
        }
      ]
    },
    {
      "cell_type": "markdown",
      "metadata": {
        "id": "XrQRccXgxCFP"
      },
      "source": [
        "You can also customize your lines using other parameters. Checkout the [documentation](https://matplotlib.org/api/_as_gen/matplotlib.lines.Line2D.html) for details."
      ]
    },
    {
      "cell_type": "markdown",
      "metadata": {
        "id": "Z6EfnWU7xCFP"
      },
      "source": [
        " ## 2.3 Multiple Figures\n",
        " Multiple figures can be created and plotted."
      ]
    },
    {
      "cell_type": "code",
      "metadata": {
        "id": "alNCCnw9xCFP",
        "outputId": "d9ef487c-3451-4134-bfe9-87b790de0202",
        "colab": {
          "base_uri": "https://localhost:8080/",
          "height": 545
        }
      },
      "source": [
        "plt.clf()\n",
        "t = np.arange(0, 10)\n",
        "plt.plot(t, t, 'ro')\n",
        "plt.title(\"Figure 1. A line\")\n",
        "\n",
        "plt.figure()      # create a second figure\n",
        "plt.title(\"Figure 2. Quadratic function\")\n",
        "x = np.arange(-5, 6)\n",
        "plt.plot(x, x**2, 'g^')\n",
        "\n",
        "# you can also add more things to your figures by selecting them using their\n",
        "# indices\n",
        "plt.figure(1)   # select the first figure to plot data\n",
        "plt.plot(t,t, 'bo')\n",
        "plt.figure(2)   # select the second figure to plot data\n",
        "plt.plot(x, x**2, 'go')\n",
        "plt.show()"
      ],
      "execution_count": null,
      "outputs": [
        {
          "output_type": "display_data",
          "data": {
            "image/png": "[encoded data removed]",
            "text/plain": [
              "<Figure size 432x288 with 1 Axes>"
            ]
          },
          "metadata": {
            "tags": [],
            "needs_background": "light"
          }
        },
        {
          "output_type": "display_data",
          "data": {
            "image/png": "[encoded data removed]",
            "text/plain": [
              "<Figure size 432x288 with 1 Axes>"
            ]
          },
          "metadata": {
            "tags": [],
            "needs_background": "light"
          }
        }
      ]
    },
    {
      "cell_type": "markdown",
      "metadata": {
        "id": "gUKVDcquxCFR"
      },
      "source": [
        "## 2.4 Additional properties\n"
      ]
    },
    {
      "cell_type": "code",
      "metadata": {
        "id": "B1ZRqC08xCFR",
        "outputId": "1434c6a3-9327-4e8d-f60a-f73fecb3741c",
        "colab": {
          "base_uri": "https://localhost:8080/"
        }
      },
      "source": [
        "import matplotlib.pyplot as plt\n",
        "import numpy as np\n",
        "\n",
        "x = np.arange(-50, 51, 5)\n",
        "y = x**2\n",
        "plt.plot(x, y, 'ro')\n",
        "\n",
        "# specify plot information, axes, title\n",
        "plt.xlabel('x', fontsize=14, color='green')\n",
        "plt.ylabel('y = x^2', fontsize=14, color='green')\n",
        "plt.title('Plot of quaratic function')\n",
        "\n",
        "# add some text\n",
        "plt.text(0, 0, \"Lowest point (0,0)\")\n",
        "\n",
        "# add a grid if you want\n",
        "plt.grid(True)\n",
        "\n",
        "plt.show()"
      ],
      "execution_count": null,
      "outputs": [
        {
          "output_type": "display_data",
          "data": {
            "image/png": "[encoded data removed]",
            "text/plain": [
              "<Figure size 432x288 with 1 Axes>"
            ]
          },
          "metadata": {
            "tags": [],
            "needs_background": "light"
          }
        }
      ]
    },
    {
      "cell_type": "markdown",
      "metadata": {
        "id": "WxoA9DWFxCFS"
      },
      "source": [
        " #### Legends\n",
        " The pyplot.legend() adds a legend to a figure."
      ]
    },
    {
      "cell_type": "code",
      "metadata": {
        "id": "-NUhBgBZxCFS",
        "outputId": "fb775dd5-e846-48b9-f48e-2f5b2857597e",
        "colab": {
          "base_uri": "https://localhost:8080/",
          "height": 295
        }
      },
      "source": [
        "z = np.random.random(10)\n",
        "red_dot, = plt.plot(z[5:], \"ro\", markersize=15, label=\"Attr A\")\n",
        "blue_cross, = plt.plot(z[:5], \"b+\", markeredgewidth=3, markersize=15, label=\"Attr A-B\")\n",
        "plt.legend()\n",
        "plt.xlabel(\"x\")\n",
        "plt.ylabel(\"y\")\n",
        "plt.title(\"Experiment A\")\n",
        "plt.show()\n"
      ],
      "execution_count": null,
      "outputs": [
        {
          "output_type": "display_data",
          "data": {
            "image/png": "[encoded data removed]",
            "text/plain": [
              "<Figure size 432x288 with 1 Axes>"
            ]
          },
          "metadata": {
            "tags": [],
            "needs_background": "light"
          }
        }
      ]
    },
    {
      "cell_type": "markdown",
      "metadata": {
        "id": "5kFL7RKFxCFU"
      },
      "source": [
        " ## 2.5 Mandelrot Set"
      ]
    },
    {
      "cell_type": "markdown",
      "metadata": {
        "id": "z0pNjRdZxCFV"
      },
      "source": [
        "This example was taken from scipy-lectures.org. Follow this [link](https://scipy-lectures.org/intro/numpy/auto_examples/plot_mandelbrot.html) for more information"
      ]
    },
    {
      "cell_type": "code",
      "metadata": {
        "id": "8EE4m3DWxCFV",
        "outputId": "b0742d57-ef5e-4abc-c2d0-4cbe52f87662",
        "colab": {
          "base_uri": "https://localhost:8080/"
        }
      },
      "source": [
        "import numpy as np\n",
        "import matplotlib.pyplot as plt\n",
        "from numpy import newaxis\n",
        "\n",
        "def compute_mandelbrot(N_max, some_threshold, nx, ny):\n",
        "    # A grid of c-values\n",
        "    x = np.linspace(-2, 1, nx)\n",
        "    y = np.linspace(-1.5, 1.5, ny)\n",
        "\n",
        "    c = x[:,newaxis] + 1j*y[newaxis,:]\n",
        "\n",
        "    # Mandelbrot iteration\n",
        "\n",
        "    z = c\n",
        "    for j in range(N_max):\n",
        "        z = z**2 + c\n",
        "\n",
        "    mandelbrot_set = (abs(z) < some_threshold)\n",
        "\n",
        "    return mandelbrot_set\n",
        "\n",
        "mandelbrot_set = compute_mandelbrot(50, 50., 601, 401)\n",
        "\n",
        "plt.imshow(mandelbrot_set.T, extent=[-2, 1, -1.5, 1.5])\n",
        "plt.gray()\n",
        "plt.show()"
      ],
      "execution_count": null,
      "outputs": [
        {
          "output_type": "stream",
          "text": [
            "/usr/local/lib/python3.6/dist-packages/ipykernel_launcher.py:16: RuntimeWarning: overflow encountered in square\n",
            "  app.launch_new_instance()\n",
            "/usr/local/lib/python3.6/dist-packages/ipykernel_launcher.py:16: RuntimeWarning: invalid value encountered in square\n",
            "  app.launch_new_instance()\n",
            "/usr/local/lib/python3.6/dist-packages/ipykernel_launcher.py:18: RuntimeWarning: invalid value encountered in less\n"
          ],
          "name": "stderr"
        },
        {
          "output_type": "display_data",
          "data": {
            "image/png": "[encoded data removed]",
            "text/plain": [
              "<Figure size 432x288 with 1 Axes>"
            ]
          },
          "metadata": {
            "tags": [],
            "needs_background": "light"
          }
        }
      ]
    },
    {
      "cell_type": "markdown",
      "metadata": {
        "id": "oXH69BaIxCFW"
      },
      "source": [
        "### Additional examples\n",
        "The below example was taken from [Contour plot of irregular spaced data](https://matplotlib.org/3.1.1/gallery/images_contours_and_fields/irregulardatagrid.html#sphx-glr-gallery-images-contours-and-fields-irregulardatagrid-py). It is one of many fancy examples on Matplotlib website. For more of them, see [the gallery](https://matplotlib.org/3.1.1/gallery/index.html)"
      ]
    },
    {
      "cell_type": "code",
      "metadata": {
        "id": "ikLPVuzPxCFW",
        "outputId": "ab352593-e6fe-4c47-f077-992c090c7758",
        "colab": {
          "base_uri": "https://localhost:8080/"
        }
      },
      "source": [
        "import matplotlib.pyplot as plt\n",
        "import matplotlib.tri as tri\n",
        "import numpy as np\n",
        "\n",
        "np.random.seed(19680801)\n",
        "npts = 200\n",
        "ngridx = 100\n",
        "ngridy = 200\n",
        "x = np.random.uniform(-2, 2, npts)\n",
        "y = np.random.uniform(-2, 2, npts)\n",
        "z = x * np.exp(-x**2 - y**2)\n",
        "\n",
        "fig, (ax1, ax2) = plt.subplots(nrows=2)\n",
        "\n",
        "# -----------------------\n",
        "# Interpolation on a grid\n",
        "# -----------------------\n",
        "# A contour plot of irregularly spaced data coordinates\n",
        "# via interpolation on a grid.\n",
        "\n",
        "# Create grid values first.\n",
        "xi = np.linspace(-2.1, 2.1, ngridx)\n",
        "yi = np.linspace(-2.1, 2.1, ngridy)\n",
        "\n",
        "# Perform linear interpolation of the data (x,y)\n",
        "# on a grid defined by (xi,yi)\n",
        "triang = tri.Triangulation(x, y)\n",
        "interpolator = tri.LinearTriInterpolator(triang, z)\n",
        "Xi, Yi = np.meshgrid(xi, yi)\n",
        "zi = interpolator(Xi, Yi)\n",
        "\n",
        "# Note that scipy.interpolate provides means to interpolate data on a grid\n",
        "# as well. The following would be an alternative to the four lines above:\n",
        "#from scipy.interpolate import griddata\n",
        "#zi = griddata((x, y), z, (xi[None,:], yi[:,None]), method='linear')\n",
        "\n",
        "\n",
        "ax1.contour(xi, yi, zi, levels=14, linewidths=0.5, colors='k')\n",
        "cntr1 = ax1.contourf(xi, yi, zi, levels=14, cmap=\"RdBu_r\")\n",
        "\n",
        "fig.colorbar(cntr1, ax=ax1)\n",
        "ax1.plot(x, y, 'ko', ms=3)\n",
        "ax1.set(xlim=(-2, 2), ylim=(-2, 2))\n",
        "ax1.set_title('grid and contour (%d points, %d grid points)' %\n",
        "              (npts, ngridx * ngridy))\n",
        "\n",
        "\n",
        "# ----------\n",
        "# Tricontour\n",
        "# ----------\n",
        "# Directly supply the unordered, irregularly spaced coordinates\n",
        "# to tricontour.\n",
        "\n",
        "ax2.tricontour(x, y, z, levels=14, linewidths=0.5, colors='k')\n",
        "cntr2 = ax2.tricontourf(x, y, z, levels=14, cmap=\"RdBu_r\")\n",
        "\n",
        "fig.colorbar(cntr2, ax=ax2)\n",
        "ax2.plot(x, y, 'ko', ms=3)\n",
        "ax2.set(xlim=(-2, 2), ylim=(-2, 2))\n",
        "ax2.set_title('tricontour (%d points)' % npts)\n",
        "\n",
        "plt.subplots_adjust(hspace=0.5)\n",
        "plt.show()"
      ],
      "execution_count": null,
      "outputs": [
        {
          "output_type": "display_data",
          "data": {
            "image/png": "[encoded data removed]",
            "text/plain": [
              "<Figure size 432x288 with 4 Axes>"
            ]
          },
          "metadata": {
            "tags": [],
            "needs_background": "light"
          }
        }
      ]
    },
    {
      "cell_type": "markdown",
      "metadata": {
        "id": "iFqaTUhxxCFX"
      },
      "source": [
        "# 3 Scipy\n",
        "Scipy is a collection of mathematical algorithms and functions build on NumPy. It is organized into subpackages covering variuos computing domains:\n",
        " <ul>\n",
        "     <li> Cluster: clustering algorithms\n",
        "     <li> Ftppack: fast Fourier Transform routinges\n",
        "     <li> Linalg: linear algebra\n",
        "     <li> Optimzie: optimization and root-finding routines\n",
        "     <li> Sparse: sparse matrices and associated routines\n",
        "     <li> and more ...\n",
        " </ul>\n",
        " For a complete and thorough introduction to SciPy, visit this [link](https://docs.scipy.org/doc/scipy/reference/tutorial/general.html). You can also find tutorial on SciPy at https://docs.scipy.org/doc/scipy/reference/#tutorial"
      ]
    },
    {
      "cell_type": "markdown",
      "metadata": {
        "id": "I7T5QOeExCFY"
      },
      "source": [
        "## 3.1 Scipy Linear Algebra\n",
        " Sicpy.linalg provides all functions in numpy.linalg, plus some other more advanced functions. [documentation](https://docs.scipy.org/doc/scipy/reference/linalg.html#module-scipy.linalg)\n",
        " <ul>\n",
        "     <li> Scipy.linalg is preferred unless you do not want the dependency on scipy which requires a Fortran compiler since it is a warpping of Fortran LAPACK using f2py.\n",
        "     <li> Scipy.linalg is always compiled with BLAS/LAPACK support (faster), while this is optional for numpy.\n",
        "     <li> All of the BLAS/LAPACK functions are available to use in scipy.\n",
        " </ul>\n",
        " For example, scipy.linalg.solve(A, b) (faster than linalg.inv(A).dot(b)) can be used to solve the following equations:<br>\n",
        " ```\n",
        "  x + 3y = 10\n",
        " 2x + 5y = 20\n",
        " ```"
      ]
    },
    {
      "cell_type": "code",
      "metadata": {
        "id": "jAFd9eldxCFY",
        "outputId": "44d08975-0693-4321-df0b-be290b0cc6d7",
        "colab": {
          "base_uri": "https://localhost:8080/"
        }
      },
      "source": [
        "from scipy import linalg\n",
        "A = np.array([\n",
        "    [1, 3], \n",
        "    [2, 5]\n",
        "])\n",
        "\n",
        "b = np.array([\n",
        "    [10], \n",
        "    [20]\n",
        "])\n",
        "\n",
        "print('A =')\n",
        "print(A)\n",
        "print('\\nb =')\n",
        "print(b)\n",
        "print('\\nThe solution of the equations Ax=b is linalg.solve(A, b) =')\n",
        "print(linalg.solve(A, b))"
      ],
      "execution_count": null,
      "outputs": [
        {
          "output_type": "stream",
          "text": [
            "A =\n",
            "[[1 3]\n",
            " [2 5]]\n",
            "\n",
            "b =\n",
            "[[10]\n",
            " [20]]\n",
            "\n",
            "The solution of the equations Ax=b is linalg.solve(A, b) =\n",
            "[[10.]\n",
            " [ 0.]]\n"
          ],
          "name": "stdout"
        }
      ]
    },
    {
      "cell_type": "markdown",
      "metadata": {
        "id": "GHtCe274xCFZ"
      },
      "source": [
        "**Example:** Compute the determinant of square matrix. "
      ]
    },
    {
      "cell_type": "code",
      "metadata": {
        "id": "ugnaH2OKxCFa",
        "outputId": "1297c56f-f537-4e7e-888c-a473548f29e2",
        "colab": {
          "base_uri": "https://localhost:8080/"
        }
      },
      "source": [
        "from scipy import linalg\n",
        "a = np.array([[1,2,3], [4,5,6], [7,8,9]])\n",
        "determinant = linalg.det(a)\n",
        "\n",
        "print(f\"a = \\n{a}\\n\")\n",
        "print(f\"Determinant of a = {determinant}\")"
      ],
      "execution_count": null,
      "outputs": [
        {
          "output_type": "stream",
          "text": [
            "a = \n",
            "[[1 2 3]\n",
            " [4 5 6]\n",
            " [7 8 9]]\n",
            "\n",
            "Determinant of a = 0.0\n"
          ],
          "name": "stdout"
        }
      ]
    },
    {
      "cell_type": "markdown",
      "metadata": {
        "id": "d1SyVqxQxCFb"
      },
      "source": [
        "**Example**: Compute matrix inverse"
      ]
    },
    {
      "cell_type": "code",
      "metadata": {
        "id": "FymWbBfqxCFb",
        "outputId": "e53ac6cc-3aaf-48c6-ab64-c89d3254abe6",
        "colab": {
          "base_uri": "https://localhost:8080/"
        }
      },
      "source": [
        "A = np.array([\n",
        "    [1,2],\n",
        "    [3,4]\n",
        "])\n",
        "\n",
        "print(f\"A = \\n{a}\\n\")\n",
        "\n",
        "A_inverse = linalg.inv(A)\n",
        "print(f\"A_inverse = \\n{A_inverse}\\n\")\n",
        "\n",
        "print(\"Let's verify the result by calculating A dot A_inverse\")\n",
        "I = A.dot(A_inverse)\n",
        "print(f\"A dot A_inverse = \\n{np.floor(I)}\")"
      ],
      "execution_count": null,
      "outputs": [
        {
          "output_type": "stream",
          "text": [
            "A = \n",
            "[[1 2 3]\n",
            " [4 5 6]\n",
            " [7 8 9]]\n",
            "\n",
            "A_inverse = \n",
            "[[-2.   1. ]\n",
            " [ 1.5 -0.5]]\n",
            "\n",
            "Let's verify the result by calculating A dot A_inverse\n",
            "A dot A_inverse = \n",
            "[[1. 0.]\n",
            " [0. 0.]]\n"
          ],
          "name": "stdout"
        }
      ]
    },
    {
      "cell_type": "markdown",
      "metadata": {
        "id": "obj1eQ-Yg2L5"
      },
      "source": [
        "## 3.2 More\n",
        "There are many more aspects and tools provided by Scipy, please refer to https://docs.scipy.org/doc/scipy/reference/#tutorial for more materials."
      ]
    },
    {
      "cell_type": "markdown",
      "metadata": {
        "id": "XLxrp21nxCFk"
      },
      "source": [
        " # 4 Errors in Scientific Computing\n",
        "\n",
        " ## 4.1 Precision for Floating Point Numbers\n",
        " A floating point number is stored with finite bits in a computer\n",
        " <ul>\n",
        "     <li>A single-precision floating point number is stored as 32 bits\n",
        "     <li>A double-precision floating point number is stored as 64 bits\n",
        "     <li>A floating point number normally is not displayed accurately. It is displayed with fewer digits for better readability.\n",
        " <ul>"
      ]
    },
    {
      "cell_type": "code",
      "metadata": {
        "id": "imvA5uq_xCFl",
        "outputId": "5dd5e0c1-63be-4619-ef86-84436291277f",
        "colab": {
          "base_uri": "https://localhost:8080/",
          "height": 52
        }
      },
      "source": [
        "a = np.arange(7.8, 8.4, 0.05)\n",
        "print(a)\n",
        "print('a[12] is actually', '{0:.55f}'.format(a[12]))"
      ],
      "execution_count": null,
      "outputs": [
        {
          "output_type": "stream",
          "text": [
            "[7.8  7.85 7.9  7.95 8.   8.05 8.1  8.15 8.2  8.25 8.3  8.35 8.4 ]\n",
            "a[12] is actually 8.3999999999999985789145284797996282577514648437500000000\n"
          ],
          "name": "stdout"
        }
      ]
    },
    {
      "cell_type": "markdown",
      "metadata": {
        "id": "OgZr6uqzxCFl"
      },
      "source": [
        " ## 4.2 Error for Comparing Floating Point Numbers\n",
        " The result may surprise you when two floating point numbers are compared"
      ]
    },
    {
      "cell_type": "code",
      "metadata": {
        "id": "8ou3ZNnjxCFm",
        "outputId": "38c48b9d-445e-429a-b82c-60f466de18cd",
        "colab": {
          "base_uri": "https://localhost:8080/",
          "height": 87
        }
      },
      "source": [
        "print(0.1 + 0.1 + 0.1 == 0.3)\n",
        "print('0.1 is actually stored as', '{0:.55f}'.format(0.1))\n",
        "print('0.3 is actually stored as', '{0:.55f}'.format(0.3))\n",
        "print('0.1 + 0.1 + 0.1 is actually stored as',\n",
        "      '{0:.55f}'.format(0.1 + 0.1 + 0.1))"
      ],
      "execution_count": null,
      "outputs": [
        {
          "output_type": "stream",
          "text": [
            "False\n",
            "0.1 is actually stored as 0.1000000000000000055511151231257827021181583404541015625\n",
            "0.3 is actually stored as 0.2999999999999999888977697537484345957636833190917968750\n",
            "0.1 + 0.1 + 0.1 is actually stored as 0.3000000000000000444089209850062616169452667236328125000\n"
          ],
          "name": "stdout"
        }
      ]
    },
    {
      "cell_type": "markdown",
      "metadata": {
        "id": "QEWjlc6_xCFm"
      },
      "source": [
        " How to handle issues like this?\n",
        "\n",
        " This cannot be covered in this course. More study on numeric computation is needed. A simple approach is to claim that 0.1 + 0.1 + 0.1 == 0.3 is True if abs(0.1 + 0.1 + 0.1 - 0.3) < epsilon (a small number, e.g., 0.000001). Numpy provides a function allclose() to check whether two numbers/arrays are close eough to be considered equal."
      ]
    },
    {
      "cell_type": "code",
      "metadata": {
        "id": "Id1QYYEKxCFn",
        "outputId": "cf8bda39-f0b9-46c8-fb70-1ecb6ab975fe",
        "colab": {
          "base_uri": "https://localhost:8080/",
          "height": 35
        }
      },
      "source": [
        "np.allclose(0.1+0.1+0.1, 0.3)"
      ],
      "execution_count": null,
      "outputs": [
        {
          "output_type": "execute_result",
          "data": {
            "text/plain": [
              "True"
            ]
          },
          "metadata": {
            "tags": []
          },
          "execution_count": 65
        }
      ]
    },
    {
      "cell_type": "markdown",
      "metadata": {
        "id": "3TD_OffyxCFn"
      },
      "source": [
        " # Additional Materials\n",
        " <ul>\n",
        "     <li> <a href=\"https://numba.pydata.org/\">Numba</a>: \"Numba is an open source JIT compiler that translates a subset of Python and NumPy code into fast machine code.\" - In English: Numba helps make your Python and NumPy code run faster (in many cases).\n",
        "     <li> <a href=\"https://cupy.dev/\">CuPy</a>: \"A NumPy-compatible array library accelerated by CUDA\" - NumPy like library that is accelerated by NVIDIA CUDA.\n",
        "     <li> <a href=\"https://github.com/jrjohansson/scientific-python-lectures\">Scientific Python Lectures</a> \n",
        " </ul>"
      ]
    }
  ]
}